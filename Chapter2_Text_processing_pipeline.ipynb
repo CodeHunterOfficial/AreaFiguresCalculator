{
  "nbformat": 4,
  "nbformat_minor": 0,
  "metadata": {
    "colab": {
      "name": "Untitled0.ipynb",
      "provenance": [],
      "collapsed_sections": [],
      "authorship_tag": "ABX9TyMTj0Z408ZjFvkbyMThk79z",
      "include_colab_link": true
    },
    "kernelspec": {
      "name": "python3",
      "display_name": "Python 3"
    },
    "language_info": {
      "name": "python"
    }
  },
  "cells": [
    {
      "cell_type": "markdown",
      "metadata": {
        "id": "view-in-github",
        "colab_type": "text"
      },
      "source": [
        "<a href=\"https://colab.research.google.com/github/CodeHunterOfficial/AreaFiguresCalculator/blob/master/Chapter2_Text_processing_pipeline.ipynb\" target=\"_parent\"><img src=\"https://colab.research.google.com/assets/colab-badge.svg\" alt=\"Open In Colab\"/></a>"
      ]
    },
    {
      "cell_type": "code",
      "execution_count": 6,
      "metadata": {
        "id": "0JApn4dGjtii"
      },
      "outputs": [],
      "source": [
        "# https://spacy.io/usage/models\n",
        "#page 43\n",
        "import spacy\n",
        "nlp = spacy.load(\"en_core_web_sm\")\n",
        "doc=nlp(u'I am flying to Frisco')"
      ]
    },
    {
      "cell_type": "code",
      "source": [
        "print([w.text for w in doc])"
      ],
      "metadata": {
        "colab": {
          "base_uri": "https://localhost:8080/"
        },
        "id": "7B6JvUeWlx03",
        "outputId": "89185f8c-b07a-4bbc-e9dd-c49e2ae978bc"
      },
      "execution_count": 5,
      "outputs": [
        {
          "output_type": "stream",
          "name": "stdout",
          "text": [
            "['I', 'am', 'flying', 'to', 'Frisco']\n"
          ]
        }
      ]
    },
    {
      "cell_type": "code",
      "source": [
        "#page 44 Лематизация\n",
        "import spacy\n",
        "nlp = spacy.load(\"en_core_web_sm\")\n",
        "doc=nlp(u'This product integrates both libraries for downloading and applying patches')\n",
        "for token in doc:\n",
        "  print(token.text, token.lemma_)"
      ],
      "metadata": {
        "colab": {
          "base_uri": "https://localhost:8080/"
        },
        "id": "TWE-96nSkfAf",
        "outputId": "bf8159ef-9687-4a56-af22-d939dab69a29"
      },
      "execution_count": 11,
      "outputs": [
        {
          "output_type": "stream",
          "name": "stdout",
          "text": [
            "This this\n",
            "product product\n",
            "integrates integrate\n",
            "both both\n",
            "libraries library\n",
            "for for\n",
            "downloading download\n",
            "and and\n",
            "applying apply\n",
            "patches patch\n"
          ]
        }
      ]
    },
    {
      "cell_type": "code",
      "source": [
        "import spacy\n",
        "from spacy.symbols import ORTH, LEMMA\n",
        "nlp = spacy.load(\"en_core_web_sm\")\n",
        "doc = nlp('I am flying to San Francisco')\n",
        "print([w.text for w in doc])\n",
        "\n",
        "special_case = [{'ORTH': \"San \"}, {'ORTH': \"Francisco\"}]\n",
        "\n",
        "nlp.tokenizer.add_special_case(\"San Francisco\", special_case)\n",
        "\n",
        "print([w.lemma_ for w in nlp(u'I am flying to San Francisco')])\n",
        "\n"
      ],
      "metadata": {
        "colab": {
          "base_uri": "https://localhost:8080/"
        },
        "id": "1D0jITblusz8",
        "outputId": "e4a8dd7a-a1eb-490c-b780-bd40bb13a368"
      },
      "execution_count": 51,
      "outputs": [
        {
          "output_type": "stream",
          "name": "stdout",
          "text": [
            "['I', 'am', 'flying', 'to', 'San', 'Francisco']\n",
            "['I', 'be', 'fly', 'to', 'San ', 'Francisco']\n"
          ]
        }
      ]
    },
    {
      "cell_type": "code",
      "source": [
        "import spacy\n",
        "nlp = spacy.load(\"en_core_web_sm\")\n",
        "\n",
        "doc = nlp(\"wanna go get coffee?\")\n",
        "print([w.text for w in doc])\n",
        "\n",
        "special_case = [{'ORTH': \"wan\"}, {'ORTH': \"na\"}]\n",
        "\n",
        "nlp.tokenizer.add_special_case(\"wanna\", special_case)\n",
        "\n",
        "print([w.text for w in nlp(\"wanna go get coffee?\")])"
      ],
      "metadata": {
        "colab": {
          "base_uri": "https://localhost:8080/"
        },
        "id": "cyHV3jN-vTfY",
        "outputId": "7e924971-7c4b-47e3-c131-495d854fdda2"
      },
      "execution_count": 44,
      "outputs": [
        {
          "output_type": "stream",
          "name": "stdout",
          "text": [
            "['wanna', 'go', 'get', 'coffee', '?']\n",
            "['wan', 'na', 'go', 'get', 'coffee', 'in', 'wan', 'na', '?']\n"
          ]
        }
      ]
    },
    {
      "cell_type": "code",
      "source": [
        ""
      ],
      "metadata": {
        "id": "hiO4dQMnuagL"
      },
      "execution_count": null,
      "outputs": []
    }
  ]
}